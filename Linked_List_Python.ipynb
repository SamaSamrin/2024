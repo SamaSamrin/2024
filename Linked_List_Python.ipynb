{
  "nbformat": 4,
  "nbformat_minor": 0,
  "metadata": {
    "colab": {
      "provenance": [],
      "authorship_tag": "ABX9TyN6hZ+GVEHAqPJJ/5LQFOyx",
      "include_colab_link": true
    },
    "kernelspec": {
      "name": "python3",
      "display_name": "Python 3"
    },
    "language_info": {
      "name": "python"
    }
  },
  "cells": [
    {
      "cell_type": "markdown",
      "metadata": {
        "id": "view-in-github",
        "colab_type": "text"
      },
      "source": [
        "<a href=\"https://colab.research.google.com/github/SamaSamrin/2024/blob/main/Linked_List_Python.ipynb\" target=\"_parent\"><img src=\"https://colab.research.google.com/assets/colab-badge.svg\" alt=\"Open In Colab\"/></a>"
      ]
    },
    {
      "cell_type": "markdown",
      "source": [
        "# Linked List\n",
        "\n",
        "- made up of nodes linked to each other\n",
        "- each node has 2 parts: data (value),  link (address of the next node)"
      ],
      "metadata": {
        "id": "CFLoPgrgmShH"
      }
    },
    {
      "cell_type": "markdown",
      "source": [
        "![image.png](data:image/png;base64,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)"
      ],
      "metadata": {
        "id": "dAQfCkkpo93g"
      }
    },
    {
      "cell_type": "markdown",
      "source": [
        "![image.png](data:image/png;base64,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)"
      ],
      "metadata": {
        "id": "3nd7JFTxpCTY"
      }
    },
    {
      "cell_type": "markdown",
      "source": [
        "# Single Linked List\n",
        "\n",
        "Only forward navigation is allowed"
      ],
      "metadata": {
        "id": "eJ4l82gIl60T"
      }
    },
    {
      "cell_type": "markdown",
      "source": [
        "The only information you need to store for a linked list is where the list starts (the head of the list)"
      ],
      "metadata": {
        "id": "WLZkg0LupqBs"
      }
    },
    {
      "cell_type": "code",
      "source": [
        "class LinkedList:\n",
        "    def __init__(self):\n",
        "        self.head = None"
      ],
      "metadata": {
        "id": "f1livrwPpjxL"
      },
      "execution_count": 1,
      "outputs": []
    },
    {
      "cell_type": "code",
      "source": [
        "class ListNode:\n",
        "    def __init__(self, data):\n",
        "        self.data = data\n",
        "        self.next = None"
      ],
      "metadata": {
        "id": "WiO0aUeJptJl"
      },
      "execution_count": 3,
      "outputs": []
    },
    {
      "cell_type": "code",
      "execution_count": 5,
      "metadata": {
        "colab": {
          "base_uri": "https://localhost:8080/"
        },
        "id": "bh3-Tom3l0Tv",
        "outputId": "3177ef98-c38f-4f5f-f9a3-59b0ebd5a82c"
      },
      "outputs": [
        {
          "output_type": "stream",
          "name": "stdout",
          "text": [
            "1\n"
          ]
        }
      ],
      "source": [
        "l_list = LinkedList()\n",
        "\n",
        "l_list.head = ListNode(1)\n",
        "\n",
        "print(l_list.head.data)"
      ]
    },
    {
      "cell_type": "code",
      "source": [
        "l_list.head.next = ListNode(2)\n",
        "\n",
        "print(l_list.head.next.data)"
      ],
      "metadata": {
        "colab": {
          "base_uri": "https://localhost:8080/"
        },
        "id": "6ctI77ciqU8B",
        "outputId": "6f61bebc-0f03-4099-df2d-0048a06997fb"
      },
      "execution_count": 6,
      "outputs": [
        {
          "output_type": "stream",
          "name": "stdout",
          "text": [
            "2\n"
          ]
        }
      ]
    },
    {
      "cell_type": "code",
      "source": [
        "l_list_2 = LinkedList()\n",
        "pointer = l_list_2.head\n",
        "\n",
        "for i in range(5):\n",
        "  pointer = ListNode(i)\n",
        "  print(pointer.data)\n",
        "  pointer = pointer.next"
      ],
      "metadata": {
        "colab": {
          "base_uri": "https://localhost:8080/"
        },
        "id": "2AxH9DhzqiOU",
        "outputId": "39fa7a7e-3aec-4404-cade-64cdba2ed02b"
      },
      "execution_count": 7,
      "outputs": [
        {
          "output_type": "stream",
          "name": "stdout",
          "text": [
            "0\n",
            "1\n",
            "2\n",
            "3\n",
            "4\n"
          ]
        }
      ]
    },
    {
      "cell_type": "markdown",
      "source": [
        "# Doubly Linked List\n",
        "\n",
        "Navigation goes both forward and backward"
      ],
      "metadata": {
        "id": "WOA_5c00mG0N"
      }
    },
    {
      "cell_type": "markdown",
      "source": [
        "# Circular Linked List\n",
        "\n",
        "the last element must be linked to the first element"
      ],
      "metadata": {
        "id": "W0QX8dqWmIqT"
      }
    },
    {
      "cell_type": "markdown",
      "source": [
        "# References\n",
        "\n",
        "1. https://www.youtube.com/watch?v=R9PTBwOzceo&ab_channel=NesoAcademy"
      ],
      "metadata": {
        "id": "e6kQtCt3m1zY"
      }
    }
  ]
}